{
  "cells": [
    {
      "cell_type": "markdown",
      "metadata": {
        "id": "view-in-github",
        "colab_type": "text"
      },
      "source": [
        "<a href=\"https://colab.research.google.com/github/MakhovaAnastasia/Paper_Fuzzy_LSTM/blob/main/LSTM.ipynb\" target=\"_parent\"><img src=\"https://colab.research.google.com/assets/colab-badge.svg\" alt=\"Open In Colab\"/></a>"
      ]
    },
    {
      "cell_type": "markdown",
      "metadata": {
        "id": "qY8l8k_Cu-f0"
      },
      "source": [
        "***Обычный LSTM для прогнозирования цен.***"
      ]
    },
    {
      "cell_type": "markdown",
      "metadata": {
        "id": "3KVxExUBvJ8R"
      },
      "source": [
        "Импортируем нужные библиотеки"
      ]
    },
    {
      "cell_type": "code",
      "execution_count": null,
      "metadata": {
        "colab": {
          "background_save": true
        },
        "id": "f2Hg5VlxgOF0"
      },
      "outputs": [],
      "source": [
        "import pandas as pd\n",
        "from keras.layers import Dense, Activation, Dropout\n",
        "from keras.layers import LSTM, Input\n",
        "from keras.models import Sequential\n",
        "from sklearn.preprocessing import MinMaxScaler\n",
        "from sklearn.metrics  import mean_squared_error\n",
        "import math\n",
        "import numpy as np\n",
        "import matplotlib.pyplot as plt\n",
        "import yfinance as yf\n",
        "from datetime import date,timedelta\n",
        "import sklearn.metrics\n",
        "import tensorflow as tf\n",
        "from sklearn.metrics import mean_squared_error, mean_absolute_error, explained_variance_score, r2_score,mean_absolute_percentage_error\n",
        "from keras.utils import get_custom_objects\n",
        "import time\n",
        "from prettytable import PrettyTable"
      ]
    },
    {
      "cell_type": "markdown",
      "metadata": {
        "id": "N3QKmp9nvN4s"
      },
      "source": [
        "Собираем данные на разных тенорах"
      ]
    },
    {
      "cell_type": "code",
      "execution_count": null,
      "metadata": {
        "id": "kmGFu9T0iQsO"
      },
      "outputs": [],
      "source": [
        "def get_historical_close_data(name,step):\n",
        "  if step=='1d':\n",
        "    start = '2018-01-01'\n",
        "    end = '2024-02-15'\n",
        "    data = yf.Ticker(name)\n",
        "    data=data.history(start=start, end=end,interval ='1d')\n",
        "    data.reset_index(inplace=True)\n",
        "    data = data.loc[:,('Date','Close')]\n",
        "    data = data.sort_index(ascending = False)\n",
        "    return data\n",
        "  if step=='1h':\n",
        "    start = '2023-01-01'\n",
        "    end = '2024-02-15'\n",
        "    data = yf.Ticker(name)\n",
        "    data=data.history(start=start, end=end,interval ='1h')\n",
        "    data.reset_index(inplace=True)\n",
        "    data = data.loc[:,('Datetime','Close')]\n",
        "    data = data.sort_index(ascending = False)\n",
        "    return data\n",
        "  if step=='1m':\n",
        "    start = date.today()-timedelta(days=7)\n",
        "    end = date.today()\n",
        "    data = yf.Ticker(name)\n",
        "    data=data.history(start=start, end=end,interval ='1m')\n",
        "    data.reset_index(inplace=True)\n",
        "    return data"
      ]
    },
    {
      "cell_type": "markdown",
      "metadata": {
        "id": "sCTtI6xYvRxM"
      },
      "source": [
        "Нормализация данных и денормализация"
      ]
    },
    {
      "cell_type": "code",
      "execution_count": null,
      "metadata": {
        "id": "rGGoExiqgRu8"
      },
      "outputs": [],
      "source": [
        "def normalization(data):\n",
        "    scaler = MinMaxScaler(feature_range = (0,1))\n",
        "    data_norm = scaler.fit_transform(data)\n",
        "\n",
        "    return data_norm"
      ]
    },
    {
      "cell_type": "code",
      "execution_count": null,
      "metadata": {
        "id": "xbrm1djqgrk0"
      },
      "outputs": [],
      "source": [
        "def de_normalization(data, new_data):\n",
        "    scaler = MinMaxScaler(feature_range = (0,1))\n",
        "    scaler.fit_transform(data)\n",
        "    unormalized = scaler.inverse_transform(new_data)\n",
        "\n",
        "    return unormalized"
      ]
    },
    {
      "cell_type": "markdown",
      "metadata": {
        "id": "3pm2AXFNvaIB"
      },
      "source": [
        "Разбиваем данные на тренировочную и тестовую выборку и преобразуем их в нужный для LSTM формат"
      ]
    },
    {
      "cell_type": "code",
      "execution_count": null,
      "metadata": {
        "id": "8KUFPstfg270"
      },
      "outputs": [],
      "source": [
        "def split_train_test(data):\n",
        "\n",
        "    # split into train and test sets\n",
        "    train_size = int(len(data) * 0.75)\n",
        "    train, test = data[0:train_size,], data[train_size:len(data),]\n",
        "    return train, test\n",
        "\n",
        "def create_dataset(dataset, lookback):\n",
        "    dataX, dataY = [], []\n",
        "    for i in range(len(dataset)-lookback-1):\n",
        "      a = dataset[i:(i+lookback), 0]\n",
        "      dataX.append(a)\n",
        "      dataY.append(dataset[i + lookback, 0])\n",
        "    return np.array(dataX), np.array(dataY)"
      ]
    },
    {
      "cell_type": "markdown",
      "metadata": {
        "id": "-sLghmbrvgF8"
      },
      "source": [
        "Так как в LSTM базовая функция активации -- tanh, по результатам прошлых лет выбираем следующие параметры:"
      ]
    },
    {
      "cell_type": "code",
      "execution_count": null,
      "metadata": {
        "id": "2S8xPKSthKQ-"
      },
      "outputs": [],
      "source": [
        "step= '1m'\n",
        "unit = 16\n",
        "companies = 'BTC-USD'\n",
        "lookback=30"
      ]
    },
    {
      "cell_type": "markdown",
      "metadata": {
        "id": "mD-67AzPvwmZ"
      },
      "source": [
        "Подготавливаем данные: скачиваем, нормализуем, формируем выборки"
      ]
    },
    {
      "cell_type": "code",
      "execution_count": null,
      "metadata": {
        "id": "6dr3dn5Jh7lJ"
      },
      "outputs": [],
      "source": [
        "dataset = get_historical_close_data(companies,step)\n",
        "scaler=MinMaxScaler(feature_range=(0,1))\n",
        "dataset_norm=scaler.fit_transform(np.array(dataset['Close'].values).reshape(-1,1))\n",
        "train_dataset, test_dataset = split_train_test(dataset_norm)\n",
        "train_X, train_y = create_dataset(train_dataset, lookback)\n",
        "test_X, test_y = create_dataset(test_dataset,lookback)\n",
        "\n",
        "\n",
        "train_X =train_X.reshape(train_X.shape[0],train_X.shape[1] , 1)\n",
        "test_X = test_X.reshape(test_X.shape[0],test_X.shape[1] , 1)\n"
      ]
    },
    {
      "cell_type": "markdown",
      "metadata": {
        "id": "yioYpFopwCkl"
      },
      "source": [
        "Запускаем обучение LSTM с функцией потерь MSE и алгоритмом оптимизации ADAM"
      ]
    },
    {
      "cell_type": "code",
      "execution_count": null,
      "metadata": {
        "id": "lKv4gBnqi1kg"
      },
      "outputs": [],
      "source": [
        "model=Sequential()\n",
        "model = Sequential()\n",
        "model.add(Input(shape=(lookback,1)))  # Вот так правильно\n",
        "model.add(LSTM(unit))\n",
        "model.add(Dense(1))\n",
        "model.compile(loss='mean_squared_error',optimizer='adam')\n",
        "start_time = time.time()\n",
        "result=model.fit(train_X,train_y,validation_data=(test_X,test_y),epochs=100,batch_size=32,verbose=False)\n",
        "end_time = time.time()\n",
        "train_timing=(end_time-start_time)"
      ]
    },
    {
      "cell_type": "code",
      "execution_count": null,
      "metadata": {
        "colab": {
          "base_uri": "https://localhost:8080/"
        },
        "id": "LBA8fAlg15bF",
        "outputId": "4b98a1ef-6b3a-49fd-ebe6-ec2b81c8609d"
      },
      "outputs": [
        {
          "name": "stdout",
          "output_type": "stream",
          "text": [
            "time = 249.61397790908813\n"
          ]
        }
      ],
      "source": [
        "print(f\"time = {train_timing}\")"
      ]
    },
    {
      "cell_type": "markdown",
      "metadata": {
        "id": "JnA6IiJbwPIM"
      },
      "source": [
        "Делаем прогноз на тренировочной и тестовой выборке"
      ]
    },
    {
      "cell_type": "code",
      "execution_count": null,
      "metadata": {
        "colab": {
          "base_uri": "https://localhost:8080/"
        },
        "id": "ExfyhCsunFRW",
        "outputId": "6117f1ec-4471-4daa-d801-611dfea42c07"
      },
      "outputs": [
        {
          "name": "stdout",
          "output_type": "stream",
          "text": [
            "\u001b[1m175/175\u001b[0m \u001b[32m━━━━━━━━━━━━━━━━━━━━\u001b[0m\u001b[37m\u001b[0m \u001b[1m1s\u001b[0m 4ms/step\n",
            "\u001b[1m58/58\u001b[0m \u001b[32m━━━━━━━━━━━━━━━━━━━━\u001b[0m\u001b[37m\u001b[0m \u001b[1m0s\u001b[0m 4ms/step\n",
            "time = 0.36344289779663086\n"
          ]
        }
      ],
      "source": [
        "train_predict=model.predict(train_X)\n",
        "start_time = time.time()\n",
        "test_predict=model.predict(test_X)\n",
        "end_time = time.time()\n",
        "test_timing=(end_time-start_time)\n",
        "#train_predict.shape, test_predict.shape\n",
        "print(f\"time = {test_timing}\")"
      ]
    },
    {
      "cell_type": "markdown",
      "metadata": {
        "id": "whtsEcxbwysh"
      },
      "source": [
        "Возвращаем данные в исходные единицы измерения"
      ]
    },
    {
      "cell_type": "code",
      "execution_count": null,
      "metadata": {
        "id": "FEF8ENmti2g4"
      },
      "outputs": [],
      "source": [
        "\n",
        "train_predict = scaler.inverse_transform(train_predict)\n",
        "test_predict = scaler.inverse_transform(test_predict)\n",
        "original_ytrain = scaler.inverse_transform(train_y.reshape(-1,1))\n",
        "original_ytest = scaler.inverse_transform(test_y.reshape(-1,1))"
      ]
    },
    {
      "cell_type": "markdown",
      "metadata": {
        "id": "3FeKQEkUxCzg"
      },
      "source": [
        "График с оригинальными данными и прогнозами:"
      ]
    },
    {
      "cell_type": "code",
      "execution_count": null,
      "metadata": {
        "id": "wl48LlCAngaS"
      },
      "outputs": [],
      "source": [
        "trainPredictPlot = np.empty_like(dataset_norm)\n",
        "trainPredictPlot[:, ] = np.nan\n",
        "trainPredictPlot[lookback:len(train_predict)+lookback, ] = train_predict[:,0].reshape(-1,1)\n",
        "testPredictPlot = np.empty_like(dataset_norm)\n",
        "testPredictPlot[:,] = np.nan\n",
        "testPredictPlot[len(train_predict)+(lookback*2)+1:len(dataset['Close'])-1, ] = test_predict[:,0].reshape(-1,1)\n",
        "\n"
      ]
    },
    {
      "cell_type": "code",
      "execution_count": null,
      "metadata": {
        "id": "d0oOG_Jlpf18"
      },
      "outputs": [],
      "source": [
        "plt.style.use('https://github.com/dhaitz/matplotlib-stylesheets/raw/master/pitayasmoothie-light.mplstyle')\n",
        "%matplotlib inline"
      ]
    },
    {
      "cell_type": "code",
      "execution_count": null,
      "metadata": {
        "colab": {
          "base_uri": "https://localhost:8080/",
          "height": 425
        },
        "id": "Fdu97H0dorET",
        "outputId": "072213f6-ff82-4a97-aa0e-f37cd91ecf6e"
      },
      "outputs": [
        {
          "data": {
            "image/png": "[encoded data removed]",
            "text/plain": [
              "<Figure size 640x480 with 1 Axes>"
            ]
          },
          "metadata": {},
          "output_type": "display_data"
        }
      ],
      "source": [
        "plt.plot(de_normalization(dataset['Close'].values.reshape(-1,1),dataset_norm),color = 'C2', label = 'data')\n",
        "plt.plot(trainPredictPlot,color = 'C0', label = 'train')\n",
        "plt.plot(testPredictPlot,color = 'C3', label = 'test')\n",
        "plt.legend()\n",
        "plt.show()"
      ]
    },
    {
      "cell_type": "markdown",
      "metadata": {
        "id": "2IuX4BbLxLue"
      },
      "source": [
        "Метрики:"
      ]
    },
    {
      "cell_type": "code",
      "execution_count": null,
      "metadata": {
        "colab": {
          "base_uri": "https://localhost:8080/"
        },
        "id": "BDka43nWlweu",
        "outputId": "aa4268c9-6a53-4d56-ca3f-b990d560a8d2"
      },
      "outputs": [
        {
          "name": "stdout",
          "output_type": "stream",
          "text": [
            "+---------+-----------------------+-----------------------+\n",
            "| RESULTS |         TRAIN         |          TEST         |\n",
            "+---------+-----------------------+-----------------------+\n",
            "|   rmse  |    59.0920947117681   |   60.67359111268917   |\n",
            "|   mae   |   46.979733439404804  |   43.137876393420335  |\n",
            "|   mape  | 0.0005465629538569222 | 0.0005224758204890548 |\n",
            "+---------+-----------------------+-----------------------+\n"
          ]
        }
      ],
      "source": [
        "rmse_train= math.sqrt(mean_squared_error(original_ytrain,train_predict))\n",
        "mae_train=mean_absolute_error(original_ytrain,train_predict)\n",
        "mape_train=mean_absolute_percentage_error(original_ytrain,train_predict)\n",
        "rmse_test=math.sqrt(mean_squared_error(original_ytest,test_predict))\n",
        "mae_test=mean_absolute_error(original_ytest,test_predict)\n",
        "mape_test=mean_absolute_percentage_error(original_ytest,test_predict)\n",
        "\n",
        "my_table = PrettyTable()\n",
        "my_table.field_names = [f\"RESULTS\", \"TRAIN\", \"TEST\"]\n",
        "my_table.add_row([\"rmse\", rmse_train, rmse_test])\n",
        "my_table.add_row([\"mae\", mae_train, mae_test])\n",
        "my_table.add_row([\"mape\",mape_train, mape_test])\n",
        "\n",
        "print(my_table)\n"
      ]
    },
    {
      "cell_type": "markdown",
      "metadata": {
        "id": "TEPEDwEDxZpZ"
      },
      "source": [
        "График функций потерь:"
      ]
    },
    {
      "cell_type": "code",
      "execution_count": null,
      "metadata": {
        "colab": {
          "base_uri": "https://localhost:8080/",
          "height": 425
        },
        "id": "g6yUUcPUoKfn",
        "outputId": "31866925-9333-4ba2-adeb-abbbde38e896"
      },
      "outputs": [
        {
          "data": {
            "image/png": "[encoded data removed]",
            "text/plain": [
              "<Figure size 640x480 with 1 Axes>"
            ]
          },
          "metadata": {},
          "output_type": "display_data"
        }
      ],
      "source": [
        "plt.plot(result.history['loss'],label = 'train loss')\n",
        "plt.plot(result.history['val_loss'],label = 'test loss')\n",
        "plt.legend()\n",
        "plt.show()"
      ]
    }
  ],
  "metadata": {
    "colab": {
      "provenance": [],
      "authorship_tag": "ABX9TyMhGtb5DXZdvnAgjt+zbg5P",
      "include_colab_link": true
    },
    "kernelspec": {
      "display_name": "Python 3",
      "name": "python3"
    },
    "language_info": {
      "name": "python"
    }
  },
  "nbformat": 4,
  "nbformat_minor": 0
}